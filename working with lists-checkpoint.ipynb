{
 "cells": [
  {
   "cell_type": "code",
   "execution_count": 170,
   "id": "49f62dce-7e7b-4665-87ec-ee8f312256bb",
   "metadata": {},
   "outputs": [
    {
     "name": "stdout",
     "output_type": "stream",
     "text": [
      "[ 2522.67  1911.39 -3707.79 -2914.01  -599.92  7265.24  8210.55  3944.97\n",
      "  3328.39 -2238.65   659.6  11629.54]\n"
     ]
    }
   ],
   "source": [
    "revenue = [14574.49, 7606.46, 8611.41, 9175.71, 8058.65, 8105.44, 11496.28, 9766.09, 10305.32, 14379.96, 10713.97, 15433.50]\n",
    "expense = [12051.82, 5695.07, 12319.20, 12089.72, 8658.57, 840.20, 3285.73, 5821.12, 6976.93, 16618.61, 10054.37, 3803.96]\n",
    "#calculate the profit which is the revenue - expenses \n",
    "profit = []\n",
    "for i in range (0, len(revenue)):\n",
    "    profit.append(revenue[i]-expense[i])\n",
    "print(np.round(profit,2))"
   ]
  },
  {
   "cell_type": "code",
   "execution_count": 177,
   "id": "8b206ee5-bede-46dc-97af-126f452ad8ea",
   "metadata": {},
   "outputs": [
    {
     "name": "stdout",
     "output_type": "stream",
     "text": [
      " profit after tax is:\n",
      " \n",
      "[10202.14  5324.52  6027.99  6423.    5641.06  5673.81  8047.4   6836.26\n",
      "  7213.72 10065.97  7499.78 10803.45]\n"
     ]
    }
   ],
   "source": [
    "#profit after tax\n",
    "revenue = [14574.49, 7606.46, 8611.41, 9175.71, 8058.65, 8105.44, 11496.28, 9766.09, 10305.32, 14379.96, 10713.97, 15433.50]\n",
    "sharetax = [0.3, 0.3, 0.3, 0.3, 0.3, 0.3, 0.3, 0.3, 0.3, 0.3, 0.3, 0.3]\n",
    "share = []\n",
    "profitaftertax = []\n",
    "for i in range(0,len(revenue)):\n",
    "    share.append(revenue[i]*sharetax[i])\n",
    "    profitaftertax.append(revenue[i]-share[i])\n",
    "print (\" profit after tax is:\") \n",
    "print(\" \")\n",
    "print(np.round(profitaftertax,2))"
   ]
  },
  {
   "cell_type": "code",
   "execution_count": 178,
   "id": "143c710c-1c53-4f83-8ce5-80d7ed4fa682",
   "metadata": {},
   "outputs": [
    {
     "name": "stdout",
     "output_type": "stream",
     "text": [
      "[0.7000000000000001, 0.7, 0.7000000000000001, 0.7, 0.7000000000000001, 0.7000000000000001, 0.7000000000000001, 0.7000000000000001, 0.7000000000000001, 0.7000000000000001, 0.7, 0.7000000000000001]\n"
     ]
    }
   ],
   "source": [
    "#profit margin\n",
    "profitmargin = []\n",
    "for i in range (0, len(revenue)):\n",
    "    profitmargin.append(profitaftertax[i] / revenue[i])\n",
    "print (profitmargin)"
   ]
  },
  {
   "cell_type": "code",
   "execution_count": 206,
   "id": "28a8984f-e6a7-4e98-b089-ea3ccd8546bd",
   "metadata": {},
   "outputs": [
    {
     "name": "stdout",
     "output_type": "stream",
     "text": [
      "[('Jan', 'Bad Month'), ('Feb', 'Bad Month'), ('Mar', 'Bad Month'), ('April', 'Bad Month'), ('May', 'Bad Month'), ('June', 'Bad Month'), ('July', 'Good Month'), ('Aug', 'Good Month'), ('Sep', 'Good Month'), ('Oct', 'Good Month'), ('Nov', 'Good Month'), ('Dec', 'Good Month')]\n"
     ]
    }
   ],
   "source": [
    "#mean of the year\n",
    "revenue = [1457.49, 7606.46, 8611.41, 9175.71, 8058.65, 8105.44, 11496.28, 9766.09, 10305.32, 14379.96, 10713.97, 15433.50]\n",
    "months = [\"Jan\", \"Feb\", \"Mar\", \"April\", \"May\", \"June\", \"July\", \"Aug\", \"Sep\", \"Oct\", \"Nov\", \"Dec\"]\n",
    "GoodBadMonths = []\n",
    "meanofyear = statistics.mean(revenue)\n",
    "for i in range (0, len(revenue)):\n",
    "    if revenue[i] > meanofyear:\n",
    "       GoodBadMonths.append(\"Good Month\")\n",
    "    else:\n",
    "        GoodBadMonths.append(\"Bad Month\")\n",
    "result = list(zip(months, GoodBadMonths))\n",
    "print (result)\n"
   ]
  },
  {
   "cell_type": "code",
   "execution_count": 220,
   "id": "97ce476e-3108-4cb6-bb4c-3423a5efa9a9",
   "metadata": {},
   "outputs": [
    {
     "name": "stdout",
     "output_type": "stream",
     "text": [
      "BestMonth ['Dec', 10803.45]\n"
     ]
    }
   ],
   "source": [
    "BestMonth_index = profitaftertax.index(max(profitaftertax))\n",
    "BestMonth = [months[BestMonth_index],max(profitaftertax)]\n",
    "print (\"BestMonth\", BestMonth)"
   ]
  },
  {
   "cell_type": "code",
   "execution_count": 222,
   "id": "a1f68df6-f5c5-4fd4-a991-df06cb776b02",
   "metadata": {},
   "outputs": [
    {
     "name": "stdout",
     "output_type": "stream",
     "text": [
      "Bad Month ['Feb', 5324.522]\n"
     ]
    }
   ],
   "source": [
    "WorstMonth_index = profitaftertax.index(min(profitaftertax))\n",
    "WorstMonth = [months[WorstMonth_index], min(profitaftertax)]\n",
    "print (\"Bad Month\", WorstMonth)"
   ]
  },
  {
   "cell_type": "code",
   "execution_count": null,
   "id": "7bd31357-fec5-4903-bce3-cb2acb984754",
   "metadata": {},
   "outputs": [],
   "source": []
  }
 ],
 "metadata": {
  "kernelspec": {
   "display_name": "Python 3 (ipykernel)",
   "language": "python",
   "name": "python3"
  },
  "language_info": {
   "codemirror_mode": {
    "name": "ipython",
    "version": 3
   },
   "file_extension": ".py",
   "mimetype": "text/x-python",
   "name": "python",
   "nbconvert_exporter": "python",
   "pygments_lexer": "ipython3",
   "version": "3.12.0"
  }
 },
 "nbformat": 4,
 "nbformat_minor": 5
}
